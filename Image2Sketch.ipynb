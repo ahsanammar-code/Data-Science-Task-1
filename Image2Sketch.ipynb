{
 "cells": [
  {
   "cell_type": "code",
   "execution_count": null,
   "source": [
    "#Name :- Ammar Ahsan\r\n",
    "#Task 1:- Image to Pencil Sketch with Python"
   ],
   "outputs": [],
   "metadata": {}
  },
  {
   "cell_type": "code",
   "execution_count": 1,
   "source": [
    "#importing opencv module\r\n",
    "import cv2"
   ],
   "outputs": [],
   "metadata": {}
  },
  {
   "cell_type": "code",
   "execution_count": 3,
   "source": [
    "#reading image file from local disk\r\n",
    "image = cv2.imread('D:\\Data Science Task 1\\ducati.jpg') "
   ],
   "outputs": [],
   "metadata": {}
  },
  {
   "cell_type": "code",
   "execution_count": 5,
   "source": [
    "#converting the image to greyscale\r\n",
    "Grey_format = cv2.cvtColor(image, cv2.COLOR_BGR2GRAY)"
   ],
   "outputs": [],
   "metadata": {}
  },
  {
   "cell_type": "code",
   "execution_count": 7,
   "source": [
    "#inverting the greyscale image to negative format\r\n",
    "invert = cv2.bitwise_not(Grey_format)"
   ],
   "outputs": [],
   "metadata": {}
  },
  {
   "cell_type": "code",
   "execution_count": 12,
   "source": [
    "#blurring the image\r\n",
    "blurred = cv2.GaussianBlur(invert, (21, 21), 0)"
   ],
   "outputs": [],
   "metadata": {}
  },
  {
   "cell_type": "code",
   "execution_count": 14,
   "source": [
    "#blurred image inverted\r\n",
    "neg_blur = cv2.bitwise_not(blurred)"
   ],
   "outputs": [],
   "metadata": {}
  },
  {
   "cell_type": "code",
   "execution_count": 16,
   "source": [
    "#creating a sketch by combining greyscale image and inverted blur image\n",
    "sketch = cv2.divide(Grey_format, neg_blur, scale=256.0)"
   ],
   "outputs": [],
   "metadata": {}
  },
  {
   "cell_type": "code",
   "execution_count": 18,
   "source": [
    "#creating image file in target folder\n",
    "cv2.imwrite(\"D:\\Data Science Task 1\\sketch.png\", sketch)"
   ],
   "outputs": [
    {
     "output_type": "execute_result",
     "data": {
      "text/plain": [
       "True"
      ]
     },
     "metadata": {},
     "execution_count": 18
    }
   ],
   "metadata": {}
  }
 ],
 "metadata": {
  "kernelspec": {
   "display_name": "Python 3",
   "language": "python",
   "name": "python3"
  },
  "language_info": {
   "codemirror_mode": {
    "name": "ipython",
    "version": 3
   },
   "file_extension": ".py",
   "mimetype": "text/x-python",
   "name": "python",
   "nbconvert_exporter": "python",
   "pygments_lexer": "ipython3",
   "version": "3.7.7"
  }
 },
 "nbformat": 4,
 "nbformat_minor": 4
}